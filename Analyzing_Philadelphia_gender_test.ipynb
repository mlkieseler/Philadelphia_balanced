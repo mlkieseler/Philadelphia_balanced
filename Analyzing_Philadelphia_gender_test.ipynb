{
 "cells": [
  {
   "cell_type": "code",
   "execution_count": 1,
   "metadata": {},
   "outputs": [],
   "source": [
    "from __future__ import division\n",
    "import csv, os, numpy as np, matplotlib.pyplot as plt, pandas as pd, re\n",
    "# import numpy as np\n",
    "# from numpy import *\n",
    "# import matplotlib.pyplot as plt\n",
    "# import pandas as pd\n",
    "\n",
    "# import re\n",
    "\n",
    "\n",
    "\n"
   ]
  },
  {
   "cell_type": "code",
   "execution_count": 2,
   "metadata": {},
   "outputs": [],
   "source": [
    "\n",
    "datafiles = []\n",
    "# Tish data\n",
    "# directory = \"/Users/marie/Documents/Projects/AP_Project/data/Testing_Tish/Philadelphia_75_noise_522193_tw-12-10-18_20181210_113359.csv\"\n",
    "# Control data\n",
    "# directory = \"/Users/marie/Downloads/522193_results_20190409_2211/*.csv\"\n",
    "# directory = \"/Users/marie/Documents/Projects/morph_project/data/pilot/sex_morph/Philadelphia_Test_results_20190619_1850/*.csv\"\n",
    "# directory = \"/Users/marie/Downloads/Re__To_dos_this_week_1/philly_gender_F0043HY.csv\"\n",
    "# directory = \"/Users/marie/Documents/Projects/morph_project/philadelphia_test/control_data/*.csv\"\n",
    "directory = \"/Users/marie/Documents/Projects/morph_project/sex_moprh/sex_morph_20_trials/63_and_113_less_red/philly_data/*.csv\""
   ]
  },
  {
   "cell_type": "code",
   "execution_count": 3,
   "metadata": {},
   "outputs": [],
   "source": [
    "import glob\n",
    "datafiles = []\n",
    "datafiles.append(glob.glob(directory))"
   ]
  },
  {
   "cell_type": "code",
   "execution_count": 4,
   "metadata": {},
   "outputs": [
    {
     "data": {
      "text/plain": [
       "['/Users/marie/Documents/Projects/morph_project/sex_moprh/sex_morph_20_trials/63_and_113_less_red/philly_data/522193_200107_221135_M048703.csv',\n",
       " '/Users/marie/Documents/Projects/morph_project/sex_moprh/sex_morph_20_trials/63_and_113_less_red/philly_data/522193_200107_221412_M002955.csv',\n",
       " '/Users/marie/Documents/Projects/morph_project/sex_moprh/sex_morph_20_trials/63_and_113_less_red/philly_data/522193_200107_221047_M004669.csv',\n",
       " '/Users/marie/Documents/Projects/morph_project/sex_moprh/sex_morph_20_trials/63_and_113_less_red/philly_data/522193_200107_221541_M006713.csv',\n",
       " '/Users/marie/Documents/Projects/morph_project/sex_moprh/sex_morph_20_trials/63_and_113_less_red/philly_data/522193_200107_221612_M056376.csv',\n",
       " '/Users/marie/Documents/Projects/morph_project/sex_moprh/sex_morph_20_trials/63_and_113_less_red/philly_data/522193_200107_221103_M031420.csv',\n",
       " '/Users/marie/Documents/Projects/morph_project/sex_moprh/sex_morph_20_trials/63_and_113_less_red/philly_data/522193_200107_221152_M023456.csv',\n",
       " '/Users/marie/Documents/Projects/morph_project/sex_moprh/sex_morph_20_trials/63_and_113_less_red/philly_data/522193_200107_220922_M058503.csv',\n",
       " '/Users/marie/Documents/Projects/morph_project/sex_moprh/sex_morph_20_trials/63_and_113_less_red/philly_data/522193_200107_221019_M032837.csv',\n",
       " '/Users/marie/Documents/Projects/morph_project/sex_moprh/sex_morph_20_trials/63_and_113_less_red/philly_data/522193_200107_221013_M086449.csv',\n",
       " '/Users/marie/Documents/Projects/morph_project/sex_moprh/sex_morph_20_trials/63_and_113_less_red/philly_data/522193_200107_221109_M011819.csv',\n",
       " '/Users/marie/Documents/Projects/morph_project/sex_moprh/sex_morph_20_trials/63_and_113_less_red/philly_data/522193_200107_221131_M078758.csv',\n",
       " '/Users/marie/Documents/Projects/morph_project/sex_moprh/sex_morph_20_trials/63_and_113_less_red/philly_data/522193_200107_220955_M097258.csv',\n",
       " '/Users/marie/Documents/Projects/morph_project/sex_moprh/sex_morph_20_trials/63_and_113_less_red/philly_data/522193_200107_221025_M027702.csv',\n",
       " '/Users/marie/Documents/Projects/morph_project/sex_moprh/sex_morph_20_trials/63_and_113_less_red/philly_data/522193_200107_221009_M006048.csv',\n",
       " '/Users/marie/Documents/Projects/morph_project/sex_moprh/sex_morph_20_trials/63_and_113_less_red/philly_data/522193_200107_222443_M091129.csv',\n",
       " '/Users/marie/Documents/Projects/morph_project/sex_moprh/sex_morph_20_trials/63_and_113_less_red/philly_data/522193_200107_221815_M027987.csv',\n",
       " '/Users/marie/Documents/Projects/morph_project/sex_moprh/sex_morph_20_trials/63_and_113_less_red/philly_data/522193_200107_221306_M070632.csv',\n",
       " '/Users/marie/Documents/Projects/morph_project/sex_moprh/sex_morph_20_trials/63_and_113_less_red/philly_data/522193_200107_221221_M036047.csv',\n",
       " '/Users/marie/Documents/Projects/morph_project/sex_moprh/sex_morph_20_trials/63_and_113_less_red/philly_data/522193_200107_221013_M071676.csv']"
      ]
     },
     "execution_count": 4,
     "metadata": {},
     "output_type": "execute_result"
    }
   ],
   "source": [
    "datafiles[0]\n"
   ]
  },
  {
   "cell_type": "code",
   "execution_count": 5,
   "metadata": {},
   "outputs": [
    {
     "data": {
      "text/plain": [
       "20"
      ]
     },
     "execution_count": 5,
     "metadata": {},
     "output_type": "execute_result"
    }
   ],
   "source": [
    "# how many files do I look at?\n",
    "#this is to check if the loading worked correctly\n",
    "x=0\n",
    "for i in datafiles[0]:\n",
    "    x+=1\n",
    "    \n",
    "x    "
   ]
  },
  {
   "cell_type": "code",
   "execution_count": 14,
   "metadata": {},
   "outputs": [],
   "source": [
    "df = []\n",
    "correct_response = 0\n",
    "correct_responses = []\n",
    "perc_correct_philly = []\n",
    "perc_corr = 0\n",
    "\n",
    "for directory in datafiles[0]:\n",
    "    df = pd.read_csv(directory, sep=',', names=list(range(11))) #behind range, enter the number of rows that the error above specifies\n",
    "    df.columns = df.iloc[2] #name columns in df based on the names you find in this row\n",
    "    df = df[4:] # start data frame at the indicated row\n",
    "    correct_response = pd.to_numeric(df['correct']).sum()\n",
    "    correct_responses.append(correct_response)\n",
    "    perc_corr = correct_response/84\n",
    "    perc_correct_philly.append(perc_corr)\n",
    "    "
   ]
  },
  {
   "cell_type": "code",
   "execution_count": 15,
   "metadata": {},
   "outputs": [
    {
     "name": "stdout",
     "output_type": "stream",
     "text": [
      "['221135_M048703.csv', '221412_M002955.csv', '221047_M004669.csv', '221541_M006713.csv', '221612_M056376.csv', '221103_M031420.csv', '221152_M023456.csv', '220922_M058503.csv', '221019_M032837.csv', '221013_M086449.csv', '221109_M011819.csv', '221131_M078758.csv', '220955_M097258.csv', '221025_M027702.csv', '221009_M006048.csv', '222443_M091129.csv', '221815_M027987.csv', '221306_M070632.csv', '221221_M036047.csv', '221013_M071676.csv']\n"
     ]
    }
   ],
   "source": [
    "files= datafiles[0]\n",
    "\n",
    "re.sub(r'Users', \"\", files[0])\n",
    "# /^(.*[\\\\\\/])/\n",
    "\n",
    "subj = []\n",
    "for i in range(len(files)):\n",
    "    new_str = re.sub(r'/Users/marie/Documents/Projects/morph_project/sex_moprh/sex_morph_20_trials/63_and_113_less_red/philly_data/522193_200107_', \"\", files[i])\n",
    "    subj.append(new_str)\n",
    "    \n",
    "print(subj)\n"
   ]
  },
  {
   "cell_type": "code",
   "execution_count": 16,
   "metadata": {},
   "outputs": [
    {
     "data": {
      "text/html": [
       "<div>\n",
       "<style scoped>\n",
       "    .dataframe tbody tr th:only-of-type {\n",
       "        vertical-align: middle;\n",
       "    }\n",
       "\n",
       "    .dataframe tbody tr th {\n",
       "        vertical-align: top;\n",
       "    }\n",
       "\n",
       "    .dataframe thead th {\n",
       "        text-align: right;\n",
       "    }\n",
       "</style>\n",
       "<table border=\"1\" class=\"dataframe\">\n",
       "  <thead>\n",
       "    <tr style=\"text-align: right;\">\n",
       "      <th></th>\n",
       "      <th>subj</th>\n",
       "      <th>percent correct philly</th>\n",
       "    </tr>\n",
       "  </thead>\n",
       "  <tbody>\n",
       "    <tr>\n",
       "      <th>0</th>\n",
       "      <td>221135_M048703.csv</td>\n",
       "      <td>0.845238</td>\n",
       "    </tr>\n",
       "    <tr>\n",
       "      <th>1</th>\n",
       "      <td>221412_M002955.csv</td>\n",
       "      <td>0.845238</td>\n",
       "    </tr>\n",
       "    <tr>\n",
       "      <th>2</th>\n",
       "      <td>221047_M004669.csv</td>\n",
       "      <td>0.880952</td>\n",
       "    </tr>\n",
       "    <tr>\n",
       "      <th>3</th>\n",
       "      <td>221541_M006713.csv</td>\n",
       "      <td>0.654762</td>\n",
       "    </tr>\n",
       "    <tr>\n",
       "      <th>4</th>\n",
       "      <td>221612_M056376.csv</td>\n",
       "      <td>0.607143</td>\n",
       "    </tr>\n",
       "    <tr>\n",
       "      <th>5</th>\n",
       "      <td>221103_M031420.csv</td>\n",
       "      <td>0.797619</td>\n",
       "    </tr>\n",
       "    <tr>\n",
       "      <th>6</th>\n",
       "      <td>221152_M023456.csv</td>\n",
       "      <td>0.833333</td>\n",
       "    </tr>\n",
       "    <tr>\n",
       "      <th>7</th>\n",
       "      <td>220922_M058503.csv</td>\n",
       "      <td>0.797619</td>\n",
       "    </tr>\n",
       "    <tr>\n",
       "      <th>8</th>\n",
       "      <td>221019_M032837.csv</td>\n",
       "      <td>0.761905</td>\n",
       "    </tr>\n",
       "    <tr>\n",
       "      <th>9</th>\n",
       "      <td>221013_M086449.csv</td>\n",
       "      <td>0.892857</td>\n",
       "    </tr>\n",
       "    <tr>\n",
       "      <th>10</th>\n",
       "      <td>221109_M011819.csv</td>\n",
       "      <td>0.940476</td>\n",
       "    </tr>\n",
       "    <tr>\n",
       "      <th>11</th>\n",
       "      <td>221131_M078758.csv</td>\n",
       "      <td>0.666667</td>\n",
       "    </tr>\n",
       "    <tr>\n",
       "      <th>12</th>\n",
       "      <td>220955_M097258.csv</td>\n",
       "      <td>0.571429</td>\n",
       "    </tr>\n",
       "    <tr>\n",
       "      <th>13</th>\n",
       "      <td>221025_M027702.csv</td>\n",
       "      <td>0.809524</td>\n",
       "    </tr>\n",
       "    <tr>\n",
       "      <th>14</th>\n",
       "      <td>221009_M006048.csv</td>\n",
       "      <td>0.821429</td>\n",
       "    </tr>\n",
       "    <tr>\n",
       "      <th>15</th>\n",
       "      <td>222443_M091129.csv</td>\n",
       "      <td>0.809524</td>\n",
       "    </tr>\n",
       "    <tr>\n",
       "      <th>16</th>\n",
       "      <td>221815_M027987.csv</td>\n",
       "      <td>0.904762</td>\n",
       "    </tr>\n",
       "    <tr>\n",
       "      <th>17</th>\n",
       "      <td>221306_M070632.csv</td>\n",
       "      <td>0.857143</td>\n",
       "    </tr>\n",
       "    <tr>\n",
       "      <th>18</th>\n",
       "      <td>221221_M036047.csv</td>\n",
       "      <td>0.714286</td>\n",
       "    </tr>\n",
       "    <tr>\n",
       "      <th>19</th>\n",
       "      <td>221013_M071676.csv</td>\n",
       "      <td>0.464286</td>\n",
       "    </tr>\n",
       "  </tbody>\n",
       "</table>\n",
       "</div>"
      ],
      "text/plain": [
       "                  subj  percent correct philly\n",
       "0   221135_M048703.csv                0.845238\n",
       "1   221412_M002955.csv                0.845238\n",
       "2   221047_M004669.csv                0.880952\n",
       "3   221541_M006713.csv                0.654762\n",
       "4   221612_M056376.csv                0.607143\n",
       "5   221103_M031420.csv                0.797619\n",
       "6   221152_M023456.csv                0.833333\n",
       "7   220922_M058503.csv                0.797619\n",
       "8   221019_M032837.csv                0.761905\n",
       "9   221013_M086449.csv                0.892857\n",
       "10  221109_M011819.csv                0.940476\n",
       "11  221131_M078758.csv                0.666667\n",
       "12  220955_M097258.csv                0.571429\n",
       "13  221025_M027702.csv                0.809524\n",
       "14  221009_M006048.csv                0.821429\n",
       "15  222443_M091129.csv                0.809524\n",
       "16  221815_M027987.csv                0.904762\n",
       "17  221306_M070632.csv                0.857143\n",
       "18  221221_M036047.csv                0.714286\n",
       "19  221013_M071676.csv                0.464286"
      ]
     },
     "execution_count": 16,
     "metadata": {},
     "output_type": "execute_result"
    }
   ],
   "source": [
    "response_person_dic = {'subj': subj, 'percent correct philly': perc_correct_philly}\n",
    "\n",
    "df_overview = pd.DataFrame(response_person_dic)\n",
    "\n",
    "df_overview.to_csv('results_philadelphia_test')\n",
    "\n",
    "df_overview\n"
   ]
  },
  {
   "cell_type": "code",
   "execution_count": 20,
   "metadata": {},
   "outputs": [],
   "source": [
    "df_lessthan70percent = df_overview.loc[df_overview['percent correct philly'] <= 0.7]"
   ]
  },
  {
   "cell_type": "code",
   "execution_count": 21,
   "metadata": {},
   "outputs": [
    {
     "name": "stdout",
     "output_type": "stream",
     "text": [
      "3     221541_M006713.csv\n",
      "4     221612_M056376.csv\n",
      "11    221131_M078758.csv\n",
      "12    220955_M097258.csv\n",
      "19    221013_M071676.csv\n",
      "Name: subj, dtype: object\n"
     ]
    }
   ],
   "source": [
    "print(df_lessthan70percent['subj'])"
   ]
  },
  {
   "cell_type": "code",
   "execution_count": null,
   "metadata": {},
   "outputs": [],
   "source": [
    "newgender_dir = directory"
   ]
  },
  {
   "cell_type": "code",
   "execution_count": null,
   "metadata": {},
   "outputs": [],
   "source": []
  },
  {
   "cell_type": "code",
   "execution_count": null,
   "metadata": {},
   "outputs": [],
   "source": []
  },
  {
   "cell_type": "code",
   "execution_count": null,
   "metadata": {},
   "outputs": [],
   "source": []
  },
  {
   "cell_type": "code",
   "execution_count": null,
   "metadata": {},
   "outputs": [],
   "source": []
  },
  {
   "cell_type": "code",
   "execution_count": null,
   "metadata": {},
   "outputs": [],
   "source": [
    "#mean percentages\n",
    "mean_perc = np.mean(correct_responses)/len(df)\n",
    "mean_perc"
   ]
  },
  {
   "cell_type": "code",
   "execution_count": null,
   "metadata": {},
   "outputs": [],
   "source": [
    "len(df)"
   ]
  },
  {
   "cell_type": "code",
   "execution_count": null,
   "metadata": {},
   "outputs": [],
   "source": [
    "#mean points\n",
    "mean = np.sum(correct_responses)/len(correct_responses)\n",
    "mean"
   ]
  },
  {
   "cell_type": "code",
   "execution_count": null,
   "metadata": {},
   "outputs": [],
   "source": [
    "sd = np.std(correct_responses)\n",
    "sd"
   ]
  },
  {
   "cell_type": "code",
   "execution_count": null,
   "metadata": {},
   "outputs": [],
   "source": [
    "# sd percentages\n",
    "sd_perc = sd/len(df)\n",
    "sd_perc"
   ]
  },
  {
   "cell_type": "code",
   "execution_count": null,
   "metadata": {},
   "outputs": [],
   "source": [
    "mean_perc - 2* sd_perc"
   ]
  },
  {
   "cell_type": "code",
   "execution_count": null,
   "metadata": {},
   "outputs": [],
   "source": [
    "np.var(correct_responses)"
   ]
  },
  {
   "cell_type": "code",
   "execution_count": null,
   "metadata": {},
   "outputs": [],
   "source": [
    "print(max(correct_responses) , min(correct_responses))"
   ]
  },
  {
   "cell_type": "code",
   "execution_count": null,
   "metadata": {},
   "outputs": [],
   "source": [
    "Range = max(correct_responses) - min(correct_responses)\n",
    "Range"
   ]
  },
  {
   "cell_type": "code",
   "execution_count": null,
   "metadata": {},
   "outputs": [],
   "source": [
    "df = pd.DataFrame(correct_responses)"
   ]
  },
  {
   "cell_type": "code",
   "execution_count": null,
   "metadata": {},
   "outputs": [],
   "source": [
    "df.hist()"
   ]
  },
  {
   "cell_type": "code",
   "execution_count": null,
   "metadata": {},
   "outputs": [],
   "source": []
  },
  {
   "cell_type": "code",
   "execution_count": null,
   "metadata": {},
   "outputs": [],
   "source": []
  },
  {
   "cell_type": "code",
   "execution_count": null,
   "metadata": {},
   "outputs": [],
   "source": [
    "plotlist = []\n",
    "for i in correct_responses:\n",
    "    plotlist.append(i/84)\n",
    "\n",
    "plotlist"
   ]
  },
  {
   "cell_type": "code",
   "execution_count": null,
   "metadata": {},
   "outputs": [],
   "source": [
    "for i in plotlist:\n",
    "    print i>0.79\n",
    "    "
   ]
  },
  {
   "cell_type": "code",
   "execution_count": null,
   "metadata": {},
   "outputs": [],
   "source": [
    "correct_responses"
   ]
  },
  {
   "cell_type": "code",
   "execution_count": null,
   "metadata": {},
   "outputs": [],
   "source": []
  },
  {
   "cell_type": "code",
   "execution_count": null,
   "metadata": {},
   "outputs": [],
   "source": []
  },
  {
   "cell_type": "code",
   "execution_count": null,
   "metadata": {},
   "outputs": [],
   "source": []
  },
  {
   "cell_type": "code",
   "execution_count": null,
   "metadata": {},
   "outputs": [],
   "source": []
  },
  {
   "cell_type": "code",
   "execution_count": null,
   "metadata": {},
   "outputs": [],
   "source": []
  },
  {
   "cell_type": "code",
   "execution_count": null,
   "metadata": {},
   "outputs": [],
   "source": []
  },
  {
   "cell_type": "code",
   "execution_count": null,
   "metadata": {},
   "outputs": [],
   "source": []
  },
  {
   "cell_type": "code",
   "execution_count": null,
   "metadata": {},
   "outputs": [],
   "source": []
  },
  {
   "cell_type": "code",
   "execution_count": null,
   "metadata": {},
   "outputs": [],
   "source": []
  },
  {
   "cell_type": "code",
   "execution_count": null,
   "metadata": {},
   "outputs": [],
   "source": []
  },
  {
   "cell_type": "code",
   "execution_count": null,
   "metadata": {},
   "outputs": [],
   "source": []
  },
  {
   "cell_type": "code",
   "execution_count": null,
   "metadata": {},
   "outputs": [],
   "source": []
  },
  {
   "cell_type": "code",
   "execution_count": null,
   "metadata": {},
   "outputs": [],
   "source": []
  },
  {
   "cell_type": "code",
   "execution_count": null,
   "metadata": {},
   "outputs": [],
   "source": []
  },
  {
   "cell_type": "code",
   "execution_count": null,
   "metadata": {},
   "outputs": [],
   "source": [
    "col_list= list(df)\n",
    "col_list = [c for c in col_list if c == 'correct']\n",
    "col_list\n",
    "df['itemsum'] = df[col_list].sum(axis=1)\n",
    "# df['e'] = df[col_list].sum(axis=1)\n",
    "# df\n",
    "# Out[99]:\n",
    "#    a  b   c  d  e\n",
    "# 0  1  2  dd  5  3\n",
    "# 1  2  3  ee  9  5\n",
    "# 2  3  4  ff  1  7"
   ]
  },
  {
   "cell_type": "code",
   "execution_count": null,
   "metadata": {},
   "outputs": [],
   "source": [
    "col_list"
   ]
  },
  {
   "cell_type": "code",
   "execution_count": null,
   "metadata": {},
   "outputs": [],
   "source": [
    "# get scores per item\n",
    "item_sum = 0\n",
    "#make nan matrix with number of items by number of subjects\n",
    "# get number of items as length(col_list)?\n",
    "# get number of subjects by length(datafiles[0])\n",
    "# fill matrix in with a for loop\n",
    "# sum per row\n",
    "\n",
    "for directory in datafiles[0]:\n",
    "    df = pd.read_csv(directory, sep=',', names=list(range(17))) #behind range, enter the number of rows that the error above specifies\n",
    "    df.columns = df.iloc[2]\n",
    "    df = df[3:]\n",
    "    col_list= list(df)\n",
    "    col_list = [c for c in col_list if c == 'correct']\n",
    "#     col_list\n",
    "    item_sum = df['itemsum'] = df[col_list].sum(axis=1)\n",
    " \n",
    " "
   ]
  },
  {
   "cell_type": "code",
   "execution_count": null,
   "metadata": {},
   "outputs": [],
   "source": [
    "a"
   ]
  },
  {
   "cell_type": "code",
   "execution_count": null,
   "metadata": {},
   "outputs": [],
   "source": [
    "correct_responses"
   ]
  },
  {
   "cell_type": "code",
   "execution_count": null,
   "metadata": {},
   "outputs": [],
   "source": [
    "# haven't figured out how to do this automated but change the number in the second brackets after datafiles\n",
    "# this will give you a different directory\n",
    "#the execute the code below\n",
    "directory = datafiles[0][9]\n",
    "df = pd.read_csv(directory, sep=',', names=list(range(17)))\n",
    "df.columns = df.iloc[2]\n",
    "df = df[3:]"
   ]
  },
  {
   "cell_type": "code",
   "execution_count": null,
   "metadata": {},
   "outputs": [],
   "source": [
    "stim_df=pd.DataFrame(df['stim1'])\n",
    "correct_df=pd.DataFrame(df['correct'])"
   ]
  },
  {
   "cell_type": "code",
   "execution_count": null,
   "metadata": {},
   "outputs": [],
   "source": [
    "itemized_df = pd.concat([itemized_df,correct_df.T])"
   ]
  },
  {
   "cell_type": "code",
   "execution_count": null,
   "metadata": {},
   "outputs": [],
   "source": [
    "itemized_df.T"
   ]
  },
  {
   "cell_type": "code",
   "execution_count": null,
   "metadata": {},
   "outputs": [],
   "source": [
    "#get info\n",
    "pd.set_option('display.max_columns', 75)\n",
    "itemized_df"
   ]
  },
  {
   "cell_type": "code",
   "execution_count": null,
   "metadata": {},
   "outputs": [],
   "source": [
    "x = itemized_df.T[itemized_df.T['stim1'] == 'male_*']"
   ]
  },
  {
   "cell_type": "code",
   "execution_count": null,
   "metadata": {},
   "outputs": [],
   "source": [
    "itemized = itemized_df\n",
    "itemized.columns = itemized.iloc[0]\n",
    "# itemized.reindex(itemized.index.drop(0))\n",
    "itemized.T"
   ]
  },
  {
   "cell_type": "code",
   "execution_count": null,
   "metadata": {},
   "outputs": [],
   "source": [
    "pd.set_option('display.max_columns', 77)\n",
    "itemized.describe([1],include='all')"
   ]
  },
  {
   "cell_type": "code",
   "execution_count": null,
   "metadata": {},
   "outputs": [],
   "source": []
  }
 ],
 "metadata": {
  "kernelspec": {
   "display_name": "Python 3",
   "language": "python",
   "name": "python3"
  },
  "language_info": {
   "codemirror_mode": {
    "name": "ipython",
    "version": 3
   },
   "file_extension": ".py",
   "mimetype": "text/x-python",
   "name": "python",
   "nbconvert_exporter": "python",
   "pygments_lexer": "ipython3",
   "version": "3.7.3"
  }
 },
 "nbformat": 4,
 "nbformat_minor": 2
}
